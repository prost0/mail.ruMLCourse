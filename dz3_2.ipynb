{
 "cells": [
  {
   "cell_type": "code",
   "execution_count": 111,
   "metadata": {},
   "outputs": [
    {
     "name": "stdout",
     "output_type": "stream",
     "text": [
      "Done\n"
     ]
    }
   ],
   "source": [
    "import numpy as np \n",
    "import pandas as pd \n",
    "import os\n",
    "from sklearn.metrics import mean_absolute_error, mean_squared_error, median_absolute_error, r2_score\n",
    "from sklearn.model_selection import train_test_split\n",
    "import statsmodels.api as sm\n",
    "import patsy as pt\n",
    "import sklearn.linear_model as lm\n",
    "import random as rd\n",
    "\n",
    "df = pd.read_csv('train.csv')\n",
    "df = df.select_dtypes(include=['int64'])\n",
    "\n",
    "X = df.iloc[:,:-1]\n",
    "X=(X-X.mean())/X.std()\n",
    "X=X.values\n",
    "y  = df['SalePrice'].values\n",
    "tmp = np.ones(X.shape[0]).reshape((X.shape[0], 1))\n",
    "X = np.append(X, tmp, axis=1)\n",
    "w = np.ones(35)\n",
    "\n",
    "\n",
    "alpha = 0.0001  #шаг обновления весов\n",
    "epochs = 1000 # кол-во итераций\n",
    "lambd = -0.000001\n",
    "\n",
    "for i in range(epochs):\n",
    "    tmp = y - X.dot(w)\n",
    "    w = w + alpha * (X.T.dot(tmp) + 0.5 * lambd * w.dot(w.T))\n",
    "    \n",
    "print(\"Done\")"
   ]
  },
  {
   "cell_type": "code",
   "execution_count": 114,
   "metadata": {},
   "outputs": [
    {
     "name": "stdout",
     "output_type": "stream",
     "text": [
      "X_train  (547, 35)\n",
      "y_train  (547,)\n",
      "MSE train: 1432540206.753, test: 839471160.309\n",
      "R^2 train: 0.807, test: 0.868\n"
     ]
    }
   ],
   "source": [
    "X_train, X_test, y_train, y_test = train_test_split(\n",
    "    X, y, test_size=0.3, random_state=10)\n",
    "print(\"X_train \", X_train.shape)\n",
    "print(\"y_train \", y_train.shape)\n",
    "\n",
    "y_train_pred = X_train.dot(w)\n",
    "y_test_pred = X_test.dot(w)\n",
    "\n",
    "print('MSE train: {:.3f}, test: {:.3f}'.format(\n",
    "        mean_squared_error(y_train, y_train_pred),\n",
    "        mean_squared_error(y_test, y_test_pred)))\n",
    "print('R^2 train: {:.3f}, test: {:.3f}'.format(\n",
    "        r2_score(y_train, y_train_pred),\n",
    "        r2_score(y_test, y_test_pred)))\n",
    "\n",
    "test_df = pd.read_csv('test.csv')\n",
    "test_df = test_df.select_dtypes(include=['int64'])\n",
    "res_df = pd.DataFrame(index = test_df['Id'])\n",
    "test_df = (test_df-test_df.mean())/test_df.std()\n",
    "test_array = test_df.values\n",
    "\n",
    "tmp2 = np.ones(test_array.shape[0]).reshape((test_array.shape[0], 1))\n",
    "test_array = np.append(test_array, tmp2, axis=1)\n",
    "\n",
    "w = np.round(w)\n",
    "w = w.astype('int')\n",
    "data = np.round(test_array.dot(w))\n",
    "data = data.astype('int')\n",
    "\n",
    "res_df['SalePrice']  = data\n",
    "res_df.to_csv('res01.csv')"
   ]
  },
  {
   "cell_type": "code",
   "execution_count": 115,
   "metadata": {},
   "outputs": [
    {
     "name": "stdout",
     "output_type": "stream",
     "text": [
      "[  1361  -5297   6372  21714   6164  11733   2288   8822  -1593    -99\n",
      "  10837   6941  14029   1198  18015   2290    -53   1667   -792 -10696\n",
      "  -1898   8230   1848   1718   4838   1651   -919    455   1239   3384\n",
      "   5267     38  -1309  -1482 183313]\n"
     ]
    }
   ],
   "source": [
    "print(w)"
   ]
  },
  {
   "cell_type": "code",
   "execution_count": null,
   "metadata": {},
   "outputs": [],
   "source": []
  }
 ],
 "metadata": {
  "kernelspec": {
   "display_name": "Python 3",
   "language": "python",
   "name": "python3"
  },
  "language_info": {
   "codemirror_mode": {
    "name": "ipython",
    "version": 3
   },
   "file_extension": ".py",
   "mimetype": "text/x-python",
   "name": "python",
   "nbconvert_exporter": "python",
   "pygments_lexer": "ipython3",
   "version": "3.7.3"
  }
 },
 "nbformat": 4,
 "nbformat_minor": 2
}
